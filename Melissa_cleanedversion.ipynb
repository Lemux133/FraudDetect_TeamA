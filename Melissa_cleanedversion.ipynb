{
 "cells": [
  {
   "cell_type": "markdown",
   "id": "de9d7f03",
   "metadata": {},
   "source": [
    "# import packages & dataset"
   ]
  },
  {
   "cell_type": "code",
   "execution_count": 1,
   "id": "1caf88b7",
   "metadata": {},
   "outputs": [],
   "source": [
    "import pandas as pd\n",
    "import numpy as np\n",
    "import seaborn as sns\n",
    "import matplotlib.pyplot as plt\n",
    "import os"
   ]
  },
  {
   "cell_type": "code",
   "execution_count": 2,
   "id": "7bdcdbb9",
   "metadata": {},
   "outputs": [],
   "source": [
    "from sklearn.preprocessing import OneHotEncoder\n",
    "from sklearn.ensemble import GradientBoostingClassifier\n",
    "from sklearn.model_selection import train_test_split\n",
    "from sklearn.model_selection import GridSearchCV\n",
    "from sklearn.metrics import mean_squared_error, r2_score\n",
    "from sklearn.metrics import accuracy_score\n",
    "from sklearn.model_selection import cross_val_score\n",
    "from sklearn.metrics import confusion_matrix\n",
    "from sklearn.metrics import precision_recall_curve\n",
    "from sklearn.metrics import roc_curve, auc\n",
    "from sklearn.metrics import f1_score"
   ]
  },
  {
   "cell_type": "code",
   "execution_count": 3,
   "id": "6f5b902c",
   "metadata": {},
   "outputs": [],
   "source": [
    "df_traintran = pd.read_csv('train_transaction.csv')"
   ]
  },
  {
   "cell_type": "code",
   "execution_count": 4,
   "id": "a731d617",
   "metadata": {},
   "outputs": [],
   "source": [
    "pd.set_option('display.max_columns', None)\n",
    "pd.set_option('display.max_rows', None)"
   ]
  },
  {
   "cell_type": "markdown",
   "id": "204cafb5",
   "metadata": {},
   "source": [
    "# handle missing values"
   ]
  },
  {
   "cell_type": "code",
   "execution_count": 5,
   "id": "9d4c2a97",
   "metadata": {},
   "outputs": [],
   "source": [
    "numericalist_traintran = df_traintran.drop(columns = ['ProductCD', 'card4', 'card6', 'M1', 'M2', 'M3',\n",
    "                                            'M4', 'M5', 'M6', 'M7', 'M8', 'M9', 'P_emaildomain', 'R_emaildomain'])\n",
    "strlist_traintran = df_traintran[['ProductCD', 'card4', 'card6', 'M1', 'M2', 'M3', 'M4', 'M5', 'M6', 'M7', 'M8', 'M9', 'P_emaildomain', 'R_emaildomain']]"
   ]
  },
  {
   "cell_type": "code",
   "execution_count": null,
   "id": "4ecf01a8",
   "metadata": {},
   "outputs": [],
   "source": [
    "# df_traintran_bat = np.array_split(df_traintran, 1000)"
   ]
  },
  {
   "cell_type": "code",
   "execution_count": null,
   "id": "53fab7e8",
   "metadata": {},
   "outputs": [],
   "source": [
    "# for i in numericalist_traintran.columns:\n",
    "#     df_traintran_bat[0][i].fillna(value = df_traintran_bat[0][i].mean(), inplace = True)\n",
    "# for i in strlist_traintran.columns:\n",
    "#     df_traintran_bat[0][i].fillna(value = 'N/A', inplace = True)"
   ]
  },
  {
   "cell_type": "code",
   "execution_count": 7,
   "id": "fb3c66a6",
   "metadata": {},
   "outputs": [],
   "source": [
    "for i in numericalist_traintran.columns:\n",
    "     df_traintran[i].fillna(value = df_traintran[i].mean(), inplace = True)\n",
    "for i in strlist_traintran.columns:\n",
    "     df_traintran[i].fillna(value = 'N/A', inplace = True)"
   ]
  },
  {
   "cell_type": "markdown",
   "id": "58984586",
   "metadata": {},
   "source": [
    "# preprocess columns w/ email domain"
   ]
  },
  {
   "cell_type": "code",
   "execution_count": null,
   "id": "ec259c35",
   "metadata": {},
   "outputs": [],
   "source": [
    "# df_traintran_bat[0]['P_emaildomain1'] = [None] * len(df_traintran_bat[0]['P_emaildomain'])\n",
    "# df_traintran_bat[0]['P_emaildomain2'] = [None] * len(df_traintran_bat[0]['P_emaildomain'])\n",
    "# df_traintran_bat[0]['P_emaildomain3'] = [None] * len(df_traintran_bat[0]['P_emaildomain'])\n",
    "\n",
    "# for i in range(len(df_traintran_bat[0]['P_emaildomain'])):\n",
    "#     df_traintran_bat[0]['P_emaildomain'][i] = ''.join(df_traintran_bat[0]['P_emaildomain'][i]).split('.')\n",
    "#     df_traintran_bat[0]['P_emaildomain1'][i] = df_traintran_bat[0]['P_emaildomain'][i][0]\n",
    "#     df_traintran_bat[0]['P_emaildomain2'][i] = 'N/A'\n",
    "#     df_traintran_bat[0]['P_emaildomain3'][i] = 'N/A'\n",
    "#     if len(df_traintran_bat[0]['P_emaildomain'][i]) == 2:\n",
    "#         df_traintran_bat[0]['P_emaildomain2'][i] = df_traintran_bat[0]['P_emaildomain'][i][1]\n",
    "#     elif len(df_traintran_bat[0]['P_emaildomain'][i]) == 3:\n",
    "#         df_traintran_bat[0]['P_emaildomain3'][i] = df_traintran_bat[0]['P_emaildomain'][i][2]"
   ]
  },
  {
   "cell_type": "code",
   "execution_count": null,
   "id": "282d1bf3",
   "metadata": {},
   "outputs": [],
   "source": [
    "# df_traintran_bat[0]['R_emaildomain1'] = [None] * len(df_traintran_bat[0]['R_emaildomain'])\n",
    "# df_traintran_bat[0]['R_emaildomain2'] = [None] * len(df_traintran_bat[0]['R_emaildomain'])\n",
    "# df_traintran_bat[0]['R_emaildomain3'] = [None] * len(df_traintran_bat[0]['R_emaildomain'])\n",
    "\n",
    "# for i in range(len(df_traintran_bat[0]['R_emaildomain'])):\n",
    "#     df_traintran_bat[0]['R_emaildomain'][i] = ''.join(df_traintran_bat[0]['R_emaildomain'][i]).split('.')\n",
    "#     df_traintran_bat[0]['R_emaildomain1'][i] = df_traintran_bat[0]['R_emaildomain'][i][0]\n",
    "#     df_traintran_bat[0]['R_emaildomain2'][i] = 'N/A'\n",
    "#     df_traintran_bat[0]['R_emaildomain3'][i] = 'N/A'\n",
    "#     if len(df_traintran_bat[0]['R_emaildomain'][i]) == 2:\n",
    "#         df_traintran_bat[0]['R_emaildomain2'][i] = df_traintran_bat[0]['R_emaildomain'][i][1]\n",
    "#     elif len(df_traintran_bat[0]['R_emaildomain'][i]) == 3:\n",
    "#         df_traintran_bat[0]['R_emaildomain3'][i] = df_traintran_bat[0]['R_emaildomain'][i][2]"
   ]
  },
  {
   "cell_type": "code",
   "execution_count": null,
   "id": "969b04cc",
   "metadata": {},
   "outputs": [],
   "source": [
    "# df_traintran_bat[0].head(20)"
   ]
  },
  {
   "cell_type": "code",
   "execution_count": 8,
   "id": "109a29c4",
   "metadata": {},
   "outputs": [
    {
     "name": "stderr",
     "output_type": "stream",
     "text": [
      "/var/folders/65/fvxx2trn5hz0gj752ylgjg7h0000gn/T/ipykernel_82558/3844849195.py:6: SettingWithCopyWarning: \n",
      "A value is trying to be set on a copy of a slice from a DataFrame\n",
      "\n",
      "See the caveats in the documentation: https://pandas.pydata.org/pandas-docs/stable/user_guide/indexing.html#returning-a-view-versus-a-copy\n",
      "  df_traintran['P_emaildomain'][i] = ''.join(df_traintran['P_emaildomain'][i]).split('.')\n",
      "/var/folders/65/fvxx2trn5hz0gj752ylgjg7h0000gn/T/ipykernel_82558/3844849195.py:7: SettingWithCopyWarning: \n",
      "A value is trying to be set on a copy of a slice from a DataFrame\n",
      "\n",
      "See the caveats in the documentation: https://pandas.pydata.org/pandas-docs/stable/user_guide/indexing.html#returning-a-view-versus-a-copy\n",
      "  df_traintran['P_emaildomain1'][i] = df_traintran['P_emaildomain'][i][0]\n",
      "/var/folders/65/fvxx2trn5hz0gj752ylgjg7h0000gn/T/ipykernel_82558/3844849195.py:8: SettingWithCopyWarning: \n",
      "A value is trying to be set on a copy of a slice from a DataFrame\n",
      "\n",
      "See the caveats in the documentation: https://pandas.pydata.org/pandas-docs/stable/user_guide/indexing.html#returning-a-view-versus-a-copy\n",
      "  df_traintran['P_emaildomain2'][i] = 'N/A'\n",
      "/var/folders/65/fvxx2trn5hz0gj752ylgjg7h0000gn/T/ipykernel_82558/3844849195.py:9: SettingWithCopyWarning: \n",
      "A value is trying to be set on a copy of a slice from a DataFrame\n",
      "\n",
      "See the caveats in the documentation: https://pandas.pydata.org/pandas-docs/stable/user_guide/indexing.html#returning-a-view-versus-a-copy\n",
      "  df_traintran['P_emaildomain3'][i] = 'N/A'\n",
      "/var/folders/65/fvxx2trn5hz0gj752ylgjg7h0000gn/T/ipykernel_82558/3844849195.py:11: SettingWithCopyWarning: \n",
      "A value is trying to be set on a copy of a slice from a DataFrame\n",
      "\n",
      "See the caveats in the documentation: https://pandas.pydata.org/pandas-docs/stable/user_guide/indexing.html#returning-a-view-versus-a-copy\n",
      "  df_traintran['P_emaildomain2'][i] = df_traintran['P_emaildomain'][i][1]\n",
      "/var/folders/65/fvxx2trn5hz0gj752ylgjg7h0000gn/T/ipykernel_82558/3844849195.py:13: SettingWithCopyWarning: \n",
      "A value is trying to be set on a copy of a slice from a DataFrame\n",
      "\n",
      "See the caveats in the documentation: https://pandas.pydata.org/pandas-docs/stable/user_guide/indexing.html#returning-a-view-versus-a-copy\n",
      "  df_traintran['P_emaildomain3'][i] = df_traintran['P_emaildomain'][i][2]\n"
     ]
    }
   ],
   "source": [
    "df_traintran['P_emaildomain1'] = [None] * len(df_traintran['P_emaildomain'])\n",
    "df_traintran['P_emaildomain2'] = [None] * len(df_traintran['P_emaildomain'])\n",
    "df_traintran['P_emaildomain3'] = [None] * len(df_traintran['P_emaildomain'])\n",
    "\n",
    "for i in range(len(df_traintran['P_emaildomain'])):\n",
    "    df_traintran['P_emaildomain'][i] = ''.join(df_traintran['P_emaildomain'][i]).split('.')\n",
    "    df_traintran['P_emaildomain1'][i] = df_traintran['P_emaildomain'][i][0]\n",
    "    df_traintran['P_emaildomain2'][i] = 'N/A'\n",
    "    df_traintran['P_emaildomain3'][i] = 'N/A'\n",
    "    if len(df_traintran['P_emaildomain'][i]) == 2:\n",
    "        df_traintran['P_emaildomain2'][i] = df_traintran['P_emaildomain'][i][1]\n",
    "    elif len(df_traintran['P_emaildomain'][i]) == 3:\n",
    "        df_traintran['P_emaildomain3'][i] = df_traintran['P_emaildomain'][i][2]"
   ]
  },
  {
   "cell_type": "code",
   "execution_count": 9,
   "id": "b577328c",
   "metadata": {},
   "outputs": [
    {
     "name": "stderr",
     "output_type": "stream",
     "text": [
      "/var/folders/65/fvxx2trn5hz0gj752ylgjg7h0000gn/T/ipykernel_82558/1950029477.py:6: SettingWithCopyWarning: \n",
      "A value is trying to be set on a copy of a slice from a DataFrame\n",
      "\n",
      "See the caveats in the documentation: https://pandas.pydata.org/pandas-docs/stable/user_guide/indexing.html#returning-a-view-versus-a-copy\n",
      "  df_traintran['R_emaildomain'][i] = ''.join(df_traintran['R_emaildomain'][i]).split('.')\n",
      "/var/folders/65/fvxx2trn5hz0gj752ylgjg7h0000gn/T/ipykernel_82558/1950029477.py:7: SettingWithCopyWarning: \n",
      "A value is trying to be set on a copy of a slice from a DataFrame\n",
      "\n",
      "See the caveats in the documentation: https://pandas.pydata.org/pandas-docs/stable/user_guide/indexing.html#returning-a-view-versus-a-copy\n",
      "  df_traintran['R_emaildomain1'][i] = df_traintran['R_emaildomain'][i][0]\n",
      "/var/folders/65/fvxx2trn5hz0gj752ylgjg7h0000gn/T/ipykernel_82558/1950029477.py:8: SettingWithCopyWarning: \n",
      "A value is trying to be set on a copy of a slice from a DataFrame\n",
      "\n",
      "See the caveats in the documentation: https://pandas.pydata.org/pandas-docs/stable/user_guide/indexing.html#returning-a-view-versus-a-copy\n",
      "  df_traintran['R_emaildomain2'][i] = 'N/A'\n",
      "/var/folders/65/fvxx2trn5hz0gj752ylgjg7h0000gn/T/ipykernel_82558/1950029477.py:9: SettingWithCopyWarning: \n",
      "A value is trying to be set on a copy of a slice from a DataFrame\n",
      "\n",
      "See the caveats in the documentation: https://pandas.pydata.org/pandas-docs/stable/user_guide/indexing.html#returning-a-view-versus-a-copy\n",
      "  df_traintran['R_emaildomain3'][i] = 'N/A'\n",
      "/var/folders/65/fvxx2trn5hz0gj752ylgjg7h0000gn/T/ipykernel_82558/1950029477.py:11: SettingWithCopyWarning: \n",
      "A value is trying to be set on a copy of a slice from a DataFrame\n",
      "\n",
      "See the caveats in the documentation: https://pandas.pydata.org/pandas-docs/stable/user_guide/indexing.html#returning-a-view-versus-a-copy\n",
      "  df_traintran['R_emaildomain2'][i] = df_traintran['R_emaildomain'][i][1]\n",
      "/var/folders/65/fvxx2trn5hz0gj752ylgjg7h0000gn/T/ipykernel_82558/1950029477.py:13: SettingWithCopyWarning: \n",
      "A value is trying to be set on a copy of a slice from a DataFrame\n",
      "\n",
      "See the caveats in the documentation: https://pandas.pydata.org/pandas-docs/stable/user_guide/indexing.html#returning-a-view-versus-a-copy\n",
      "  df_traintran['R_emaildomain3'][i] = df_traintran['R_emaildomain'][i][2]\n"
     ]
    }
   ],
   "source": [
    "df_traintran['R_emaildomain1'] = [None] * len(df_traintran['R_emaildomain'])\n",
    "df_traintran['R_emaildomain2'] = [None] * len(df_traintran['R_emaildomain'])\n",
    "df_traintran['R_emaildomain3'] = [None] * len(df_traintran['R_emaildomain'])\n",
    "\n",
    "for i in range(len(df_traintran['R_emaildomain'])):\n",
    "    df_traintran['R_emaildomain'][i] = ''.join(df_traintran['R_emaildomain'][i]).split('.')\n",
    "    df_traintran['R_emaildomain1'][i] = df_traintran['R_emaildomain'][i][0]\n",
    "    df_traintran['R_emaildomain2'][i] = 'N/A'\n",
    "    df_traintran['R_emaildomain3'][i] = 'N/A'\n",
    "    if len(df_traintran['R_emaildomain'][i]) == 2:\n",
    "        df_traintran['R_emaildomain2'][i] = df_traintran['R_emaildomain'][i][1]\n",
    "    elif len(df_traintran['R_emaildomain'][i]) == 3:\n",
    "        df_traintran['R_emaildomain3'][i] = df_traintran['R_emaildomain'][i][2]"
   ]
  },
  {
   "cell_type": "markdown",
   "id": "bc80b53e",
   "metadata": {},
   "source": [
    "# one hot encoding"
   ]
  },
  {
   "cell_type": "code",
   "execution_count": 10,
   "id": "cfe57c6c",
   "metadata": {},
   "outputs": [],
   "source": [
    "strlist_update = ['ProductCD', 'card4', 'card6', 'M1', 'M2', 'M3', 'M4', 'M5', 'M6', 'M7', 'M8', 'M9',\n",
    "                  'P_emaildomain1', 'P_emaildomain2', 'P_emaildomain3', 'R_emaildomain1', 'R_emaildomain2',\n",
    "                 'R_emaildomain3']\n",
    "# batch0_onehotencode = pd.get_dummies(df_traintran_bat[0], columns = strlist_update)\n",
    "df_traintran_onehotencode = pd.get_dummies(df_traintran, columns = strlist_update)"
   ]
  },
  {
   "cell_type": "code",
   "execution_count": 11,
   "id": "227ea670",
   "metadata": {},
   "outputs": [],
   "source": [
    "# batch0_onehotencode = batch0_onehotencode.drop(columns = ['P_emaildomain', 'R_emaildomain'])\n",
    "df_traintran_onehotencode = df_traintran_onehotencode.drop(columns = ['P_emaildomain', 'R_emaildomain'])"
   ]
  },
  {
   "cell_type": "markdown",
   "id": "c0096111",
   "metadata": {},
   "source": [
    "# correlation"
   ]
  },
  {
   "cell_type": "code",
   "execution_count": 37,
   "id": "da229db0",
   "metadata": {},
   "outputs": [],
   "source": [
    "corrs_sorted = abs(df_traintran_onehotencode.corr()['isFraud']).sort_values(ascending = False)"
   ]
  },
  {
   "cell_type": "code",
   "execution_count": 40,
   "id": "6e8b3102",
   "metadata": {
    "scrolled": true
   },
   "outputs": [],
   "source": [
    "filtered_corrs = corrs_sorted.dropna()"
   ]
  },
  {
   "cell_type": "code",
   "execution_count": 41,
   "id": "d41a4b2c",
   "metadata": {},
   "outputs": [
    {
     "name": "stdout",
     "output_type": "stream",
     "text": [
      "isFraud                        1.000000\n",
      "V257                           0.262946\n",
      "V246                           0.251838\n",
      "V244                           0.249951\n",
      "V242                           0.247522\n",
      "V45                            0.236688\n",
      "V201                           0.234520\n",
      "V200                           0.227926\n",
      "V86                            0.224530\n",
      "V87                            0.224450\n",
      "V189                           0.220374\n",
      "V44                            0.218669\n",
      "V188                           0.217058\n",
      "V258                           0.203975\n",
      "V52                            0.201111\n",
      "V51                            0.187440\n",
      "V228                           0.184556\n",
      "V170                           0.178601\n",
      "V40                            0.178413\n",
      "V79                            0.173097\n",
      "V39                            0.170565\n",
      "V94                            0.167984\n",
      "V38                            0.167128\n",
      "V43                            0.166514\n",
      "V33                            0.165534\n",
      "V199                           0.164959\n",
      "V17                            0.164800\n",
      "V18                            0.164689\n",
      "V74                            0.164684\n",
      "V34                            0.162660\n",
      "V81                            0.162608\n",
      "ProductCD_C                    0.161442\n",
      "V93                            0.161365\n",
      "V92                            0.160946\n",
      "V80                            0.160755\n",
      "V15                            0.160551\n",
      "V42                            0.159086\n",
      "V230                           0.159074\n",
      "V16                            0.157263\n",
      "V171                           0.154801\n",
      "V73                            0.154014\n",
      "card3                          0.154004\n",
      "V58                            0.153301\n",
      "V50                            0.151128\n",
      "V84                            0.150779\n",
      "V85                            0.150538\n",
      "R_emaildomain1_gmail           0.149759\n",
      "V21                            0.149745\n",
      "V57                            0.149600\n",
      "V37                            0.148604\n",
      "V31                            0.147202\n",
      "R_emaildomain2_com             0.146756\n",
      "V190                           0.146483\n",
      "V32                            0.144523\n",
      "V243                           0.144315\n",
      "M4_M2                          0.143940\n",
      "V22                            0.143276\n",
      "V72                            0.142570\n",
      "R_emaildomain2_N/A             0.141940\n",
      "V77                            0.141213\n",
      "R_emaildomain1_N/A             0.140127\n",
      "V71                            0.138929\n",
      "V123                           0.138166\n",
      "V47                            0.137826\n",
      "V63                            0.135840\n",
      "ProductCD_W                    0.135549\n",
      "V23                            0.134789\n",
      "V78                            0.134119\n",
      "V59                            0.133810\n",
      "V60                            0.133713\n",
      "V64                            0.133198\n",
      "V302                           0.132897\n",
      "V304                           0.131492\n",
      "V303                           0.124281\n",
      "V247                           0.123360\n",
      "M6_N/A                         0.123176\n",
      "V111                           0.121560\n",
      "V222                           0.118586\n",
      "V176                           0.117346\n",
      "V158                           0.116289\n",
      "V113                           0.115929\n",
      "V156                           0.115405\n",
      "V149                           0.114288\n",
      "V283                           0.112606\n",
      "V125                           0.111954\n",
      "V24                            0.111709\n",
      "V197                           0.110097\n",
      "V259                           0.108077\n",
      "V186                           0.106325\n",
      "V46                            0.105810\n",
      "V252                           0.105274\n",
      "V194                           0.105249\n",
      "V112                           0.105169\n",
      "V195                           0.105141\n",
      "V282                           0.104007\n",
      "V262                           0.103198\n",
      "V147                           0.101580\n",
      "V239                           0.100776\n",
      "card6_credit                   0.100508\n",
      "V198                           0.100029\n",
      "card6_debit                    0.099779\n",
      "V90                            0.098226\n",
      "V157                           0.098222\n",
      "V155                           0.097943\n",
      "V29                            0.097299\n",
      "V48                            0.097239\n",
      "V108                           0.096755\n",
      "V114                           0.096047\n",
      "V148                           0.095723\n",
      "V221                           0.094469\n",
      "V229                           0.094196\n",
      "V91                            0.094022\n",
      "V49                            0.093153\n",
      "V30                            0.093002\n",
      "V69                            0.092584\n",
      "M2_N/A                         0.089417\n",
      "M3_N/A                         0.089417\n",
      "M1_N/A                         0.089417\n",
      "M1_T                           0.089400\n",
      "V70                            0.089377\n",
      "M2_T                           0.089079\n",
      "V184                           0.086796\n",
      "V154                           0.086551\n",
      "V260                           0.085728\n",
      "M4_N/A                         0.085257\n",
      "D8                             0.084568\n",
      "M3_T                           0.084136\n",
      "V238                           0.083754\n",
      "V146                           0.083049\n",
      "V140                           0.082361\n",
      "V110                           0.081597\n",
      "V116                           0.080611\n",
      "V249                           0.078176\n",
      "V185                           0.078109\n",
      "V124                           0.076690\n",
      "V153                           0.076579\n",
      "V281                           0.072546\n",
      "V261                           0.071928\n",
      "M9_N/A                         0.069807\n",
      "M8_N/A                         0.069807\n",
      "M7_N/A                         0.069799\n",
      "D15                            0.069117\n",
      "M9_T                           0.068434\n",
      "M6_T                           0.068134\n",
      "V67                            0.067493\n",
      "D1                             0.067118\n",
      "V245                           0.065086\n",
      "D10                            0.064959\n",
      "V35                            0.064763\n",
      "V62                            0.064131\n",
      "M7_F                           0.063570\n",
      "D7                             0.063238\n",
      "V139                           0.061725\n",
      "V83                            0.061659\n",
      "V109                           0.060969\n",
      "V36                            0.058682\n",
      "V115                           0.057085\n",
      "D4                             0.056450\n",
      "V220                           0.054607\n",
      "V56                            0.054349\n",
      "V248                           0.053897\n",
      "V235                           0.052302\n",
      "D2                             0.051839\n",
      "R_emaildomain1_hotmail         0.050607\n",
      "V117                           0.049418\n",
      "M6_F                           0.048760\n",
      "V169                           0.048693\n",
      "V315                           0.048244\n",
      "R_emaildomain1_outlook         0.048200\n",
      "V119                           0.048115\n",
      "V12                            0.047279\n",
      "D5                             0.046812\n",
      "V75                            0.046516\n",
      "V82                            0.045574\n",
      "V251                           0.045150\n",
      "V55                            0.044391\n",
      "V61                            0.043769\n",
      "M8_F                           0.043108\n",
      "M8_T                           0.043045\n",
      "V289                           0.042582\n",
      "V53                            0.041987\n",
      "R_emaildomain1_protonmail      0.041548\n",
      "V313                           0.041448\n",
      "V76                            0.041387\n",
      "V13                            0.041234\n",
      "V10                            0.040906\n",
      "V118                           0.040585\n",
      "V290                           0.040147\n",
      "V11                            0.039422\n",
      "V191                           0.039409\n",
      "V314                           0.038492\n",
      "V256                           0.037805\n",
      "V312                           0.037576\n",
      "V232                           0.037481\n",
      "C2                             0.037229\n",
      "P_emaildomain1_gmail           0.036819\n",
      "V20                            0.036394\n",
      "V141                           0.035810\n",
      "V284                           0.035308\n",
      "V288                           0.035281\n",
      "V254                           0.034254\n",
      "D6                             0.033679\n",
      "V142                           0.033628\n",
      "card5                          0.033410\n",
      "V66                            0.033333\n",
      "P_emaildomain1_outlook         0.033032\n",
      "D13                            0.032824\n",
      "V54                            0.032797\n",
      "V218                           0.032650\n",
      "V250                           0.032225\n",
      "C8                             0.032139\n",
      "V301                           0.032051\n",
      "C12                            0.031905\n",
      "V233                           0.031731\n",
      "C9                             0.031703\n",
      "D3                             0.031662\n",
      "V219                           0.031605\n",
      "V217                           0.031429\n",
      "P_emaildomain1_yahoo           0.031115\n",
      "C5                             0.030754\n",
      "C1                             0.030570\n",
      "C4                             0.030382\n",
      "V237                           0.029326\n",
      "C10                            0.028396\n",
      "V231                           0.028342\n",
      "C7                             0.028160\n",
      "V19                            0.027880\n",
      "P_emaildomain1_hotmail         0.027723\n",
      "C11                            0.027484\n",
      "V236                           0.027443\n",
      "V196                           0.027323\n",
      "V98                            0.027307\n",
      "V255                           0.027137\n",
      "V3                             0.026989\n",
      "V292                           0.026777\n",
      "R_emaildomain1_mail            0.026759\n",
      "V150                           0.026754\n",
      "D9                             0.026237\n",
      "V159                           0.026208\n",
      "V160                           0.026074\n",
      "V145                           0.025917\n",
      "P_emaildomain1_mail            0.025903\n",
      "V151                           0.025459\n",
      "V300                           0.025289\n",
      "V131                           0.024965\n",
      "R_emaildomain1_icloud          0.024857\n",
      "M5_F                           0.024783\n",
      "V152                           0.024742\n",
      "D11                            0.024708\n",
      "card4_discover                 0.024564\n",
      "addr2                          0.024159\n",
      "P_emaildomain1_protonmail      0.023023\n",
      "V162                           0.022291\n",
      "V144                           0.021737\n",
      "V165                           0.021498\n",
      "P_emaildomain2_com             0.021486\n",
      "C6                             0.020909\n",
      "V9                             0.020774\n",
      "V291                           0.020440\n",
      "V287                           0.020416\n",
      "V309                           0.020255\n",
      "V181                           0.020234\n",
      "V5                             0.020220\n",
      "V120                           0.019670\n",
      "V163                           0.019460\n",
      "V271                           0.019421\n",
      "V122                           0.018704\n",
      "ProductCD_S                    0.018515\n",
      "P_emaildomain2_net             0.018503\n",
      "V272                           0.018090\n",
      "V138                           0.017840\n",
      "V187                           0.017300\n",
      "M7_T                           0.017003\n",
      "ProductCD_H                    0.016784\n",
      "D12                            0.016739\n",
      "V161                           0.016647\n",
      "P_emaildomain1_anonymous       0.016563\n",
      "P_emaildomain1_aol             0.016088\n",
      "V193                           0.015758\n",
      "M5_N/A                         0.015584\n",
      "V173                           0.015244\n",
      "V212                           0.015093\n",
      "V204                           0.014815\n",
      "V213                           0.014710\n",
      "V26                            0.014371\n",
      "V203                           0.014239\n",
      "TransactionID                  0.014166\n",
      "P_emaildomain2_N/A             0.014079\n",
      "V234                           0.013797\n",
      "card1                          0.013640\n",
      "M4_M1                          0.013542\n",
      "V253                           0.013490\n",
      "V209                           0.013462\n",
      "V211                           0.013261\n",
      "V99                            0.013173\n",
      "TransactionDT                  0.013103\n",
      "V192                           0.013098\n",
      "R_emaildomain2_es              0.013085\n",
      "P_emaildomain1_N/A             0.012948\n",
      "V202                           0.012872\n",
      "V7                             0.012872\n",
      "V129                           0.012725\n",
      "V143                           0.012450\n",
      "P_emaildomain1_att             0.012433\n",
      "V121                           0.012325\n",
      "V166                           0.012312\n",
      "R_emaildomain2_net             0.012118\n",
      "V227                           0.012111\n",
      "P_emaildomain1_sbcglobal       0.011975\n",
      "V178                           0.011813\n",
      "V275                           0.011752\n",
      "V174                           0.011586\n",
      "P_emaildomain1_aim             0.011566\n",
      "P_emaildomain2_es              0.011562\n",
      "V164                           0.011479\n",
      "V168                           0.011440\n",
      "V179                           0.011356\n",
      "TransactionAmt                 0.011320\n",
      "V100                           0.011282\n",
      "V270                           0.011178\n",
      "C13                            0.011146\n",
      "V310                           0.011071\n",
      "V2                             0.010888\n",
      "V273                           0.010760\n",
      "V274                           0.010652\n",
      "dist1                          0.010405\n",
      "V333                           0.010141\n",
      "V263                           0.010111\n",
      "V324                           0.010088\n",
      "P_emaildomain1_verizon         0.009915\n",
      "V332                           0.009862\n",
      "V323                           0.009803\n",
      "V177                           0.009793\n",
      "V265                           0.009764\n",
      "V329                           0.009706\n",
      "V172                           0.009452\n",
      "R_emaildomain1_yahoo           0.009428\n",
      "M3_F                           0.009260\n",
      "V331                           0.009237\n",
      "V167                           0.009178\n",
      "V285                           0.009127\n",
      "V322                           0.009052\n",
      "V330                           0.008893\n",
      "V207                           0.008867\n",
      "V8                             0.008789\n",
      "V338                           0.008134\n",
      "C14                            0.007921\n",
      "dist2                          0.007823\n",
      "V277                           0.007371\n",
      "V182                           0.007217\n",
      "M9_F                           0.007183\n",
      "V205                           0.007066\n",
      "R_emaildomain1_comcast         0.007065\n",
      "R_emaildomain1_msn             0.006995\n",
      "M5_T                           0.006953\n",
      "V4                             0.006910\n",
      "V278                           0.006891\n",
      "C3                             0.006833\n",
      "V180                           0.006677\n",
      "V276                           0.006645\n",
      "V208                           0.006542\n",
      "V264                           0.006423\n",
      "M4_M0                          0.006372\n",
      "R_emaildomain1_verizon         0.006173\n",
      "V339                           0.006162\n",
      "P_emaildomain3_N/A             0.006058\n",
      "R_emaildomain1_anonymous       0.006053\n",
      "V307                           0.005948\n",
      "P_emaildomain1_msn             0.005908\n",
      "P_emaildomain1_rocketmail      0.005839\n",
      "V6                             0.005782\n",
      "P_emaildomain2_de              0.005576\n",
      "R_emaildomain2_de              0.005549\n",
      "R_emaildomain1_sbcglobal       0.005523\n",
      "V96                            0.005482\n",
      "V225                           0.005448\n",
      "R_emaildomain1_att             0.005140\n",
      "V103                           0.005119\n",
      "V267                           0.005073\n",
      "V317                           0.005010\n",
      "V320                           0.004961\n",
      "P_emaildomain1_ymail           0.004905\n",
      "D14                            0.004899\n",
      "V102                           0.004846\n",
      "R_emaildomain1_live            0.004836\n",
      "P_emaildomain1_netzero         0.004773\n",
      "P_emaildomain1_me              0.004772\n",
      "V101                           0.004710\n",
      "V328                           0.004645\n",
      "V89                            0.004625\n",
      "R_emaildomain3_N/A             0.004537\n",
      "V293                           0.004501\n",
      "V27                            0.004492\n",
      "V97                            0.004489\n",
      "addr1                          0.004449\n",
      "V28                            0.004416\n",
      "V286                           0.004408\n",
      "R_emaildomain1_bellsouth       0.004402\n",
      "P_emaildomain1_windstream      0.004329\n",
      "V132                           0.004261\n",
      "V294                           0.004240\n",
      "P_emaildomain3_mx              0.004179\n",
      "P_emaildomain3_com             0.004157\n",
      "V296                           0.004156\n",
      "V95                            0.004118\n",
      "P_emaildomain1_optonline       0.004096\n",
      "card4_american express         0.004095\n",
      "V206                           0.004067\n",
      "V269                           0.004053\n",
      "ProductCD_R                    0.004030\n",
      "P_emaildomain2_fr              0.003916\n",
      "R_emaildomain2_fr              0.003851\n",
      "P_emaildomain1_web             0.003840\n",
      "R_emaildomain1_web             0.003815\n",
      "P_emaildomain1_twc             0.003759\n",
      "V279                           0.003751\n",
      "P_emaildomain1_cox             0.003750\n",
      "R_emaildomain3_mx              0.003626\n",
      "V266                           0.003609\n",
      "V68                            0.003586\n",
      "P_emaildomain1_centurylink     0.003548\n",
      "V126                           0.003544\n",
      "V268                           0.003543\n",
      "V134                           0.003510\n",
      "V41                            0.003489\n",
      "V104                           0.003483\n",
      "V214                           0.003464\n",
      "V25                            0.003452\n",
      "V215                           0.003428\n",
      "P_emaildomain1_q               0.003407\n",
      "card2                          0.003353\n",
      "V325                           0.003274\n",
      "V308                           0.003253\n",
      "P_emaildomain1_cfl             0.003250\n",
      "V105                           0.003228\n",
      "V133                           0.003164\n",
      "P_emaildomain3_uk              0.003145\n",
      "P_emaildomain1_roadrunner      0.003112\n",
      "V130                           0.003075\n",
      "P_emaildomain1_prodigy         0.003073\n",
      "R_emaildomain1_prodigy         0.003073\n",
      "P_emaildomain1_gmx             0.003025\n",
      "R_emaildomain1_gmx             0.003005\n",
      "R_emaildomain3_uk              0.002974\n",
      "V316                           0.002960\n",
      "V326                           0.002873\n",
      "card6_N/A                      0.002857\n",
      "R_emaildomain1_mac             0.002700\n",
      "V127                           0.002628\n",
      "P_emaildomain1_sc              0.002621\n",
      "R_emaildomain1_earthlink       0.002578\n",
      "V107                           0.002553\n",
      "R_emaildomain1_me              0.002540\n",
      "card4_N/A                      0.002532\n",
      "V297                           0.002529\n",
      "card4_mastercard               0.002463\n",
      "P_emaildomain1_comcast         0.002408\n",
      "V337                           0.002396\n",
      "V65                            0.002393\n",
      "R_emaildomain1_optonline       0.002353\n",
      "V335                           0.002293\n",
      "P_emaildomain1_bellsouth       0.002240\n",
      "P_emaildomain1_earthlink       0.002183\n",
      "V106                           0.002090\n",
      "P_emaildomain1_juno            0.002079\n",
      "P_emaildomain1_ptd             0.002043\n",
      "R_emaildomain1_embarqmail      0.002043\n",
      "P_emaildomain1_icloud          0.002004\n",
      "R_emaildomain2_edu             0.001967\n",
      "R_emaildomain1_scranton        0.001967\n",
      "V14                            0.001935\n",
      "V128                           0.001929\n",
      "V240                           0.001917\n",
      "V306                           0.001863\n",
      "R_emaildomain1_juno            0.001804\n",
      "R_emaildomain1_roadrunner      0.001804\n",
      "R_emaildomain1_frontier        0.001787\n",
      "R_emaildomain1_netzero         0.001765\n",
      "card4_visa                     0.001741\n",
      "R_emaildomain1_windstream      0.001699\n",
      "V295                           0.001681\n",
      "V321                           0.001677\n",
      "R_emaildomain1_cox             0.001673\n",
      "R_emaildomain3_com             0.001662\n",
      "V175                           0.001589\n",
      "V226                           0.001560\n",
      "R_emaildomain1_cfl             0.001507\n",
      "P_emaildomain1_servicios-ta    0.001466\n",
      "R_emaildomain1_servicios-ta    0.001466\n",
      "P_emaildomain1_cableone        0.001440\n",
      "R_emaildomain3_jp              0.001423\n",
      "P_emaildomain3_jp              0.001402\n",
      "V241                           0.001365\n",
      "card6_debit or credit          0.001357\n",
      "R_emaildomain1_twc             0.001334\n",
      "V311                           0.001300\n",
      "V298                           0.001294\n",
      "R_emaildomain1_cableone        0.001288\n",
      "R_emaildomain1_ptd             0.001288\n",
      "R_emaildomain1_q               0.001239\n",
      "M1_F                           0.001239\n",
      "P_emaildomain1_suddenlink      0.001137\n",
      "P_emaildomain1_live            0.001097\n",
      "V336                           0.001009\n",
      "V318                           0.000997\n",
      "card6_charge card              0.000960\n",
      "R_emaildomain1_frontiernet     0.000927\n",
      "P_emaildomain1_frontiernet     0.000925\n",
      "P_emaildomain1_charter         0.000881\n",
      "R_emaildomain1_centurylink     0.000858\n",
      "V224                           0.000790\n",
      "V280                           0.000782\n",
      "P_emaildomain1_frontier        0.000761\n",
      "V223                           0.000760\n",
      "R_emaildomain1_sc              0.000701\n",
      "V1                             0.000573\n",
      "R_emaildomain1_rocketmail      0.000499\n",
      "V305                           0.000496\n",
      "V88                            0.000494\n",
      "V210                           0.000467\n",
      "V183                           0.000466\n",
      "V327                           0.000441\n",
      "V216                           0.000437\n",
      "P_emaildomain1_mac             0.000426\n",
      "R_emaildomain1_ymail           0.000373\n",
      "R_emaildomain1_charter         0.000350\n",
      "V299                           0.000308\n",
      "R_emaildomain1_aim             0.000306\n",
      "V135                           0.000276\n",
      "V334                           0.000189\n",
      "M2_F                           0.000185\n",
      "R_emaildomain1_suddenlink      0.000177\n",
      "V137                           0.000115\n",
      "V319                           0.000061\n",
      "R_emaildomain1_aol             0.000058\n",
      "P_emaildomain1_embarqmail      0.000043\n",
      "V136                           0.000042\n",
      "Name: isFraud, dtype: float64\n"
     ]
    }
   ],
   "source": [
    "print(filtered_corrs)"
   ]
  },
  {
   "cell_type": "markdown",
   "id": "82188255",
   "metadata": {},
   "source": [
    "# train a GBDT model"
   ]
  },
  {
   "cell_type": "code",
   "execution_count": 42,
   "id": "6dcb41e4",
   "metadata": {},
   "outputs": [
    {
     "name": "stderr",
     "output_type": "stream",
     "text": [
      "/var/folders/65/fvxx2trn5hz0gj752ylgjg7h0000gn/T/ipykernel_82558/1023906810.py:12: SettingWithCopyWarning: \n",
      "A value is trying to be set on a copy of a slice from a DataFrame.\n",
      "Try using .loc[row_indexer,col_indexer] = value instead\n",
      "\n",
      "See the caveats in the documentation: https://pandas.pydata.org/pandas-docs/stable/user_guide/indexing.html#returning-a-view-versus-a-copy\n",
      "  df_testing['isFraud'] = df_traintran_onehotencode['isFraud']\n"
     ]
    }
   ],
   "source": [
    "testers = ['V257', 'V246', 'V244', 'ProductCD_C',\n",
    "           'card3', 'R_emaildomain1_gmail', 'R_emaildomain2_com', \n",
    "           'M4_M2', 'R_emaildomain2_N/A', 'R_emaildomain1_N/A', \n",
    "           'ProductCD_W', 'card6_credit', 'card6_debit', \n",
    "           'M1_T','M2_T','D8', 'D15', 'M7_F', \n",
    "           'R_emaildomain1_hotmail', 'R_emaildomain1_outlook',\n",
    "           'R_emaildomain1_protonmail', 'R_emaildomain1_icloud', \n",
    "           'addr2', 'P_emaildomain1_protonmail','C6'] \n",
    "# pick 25 columns based on sorted correlation coefficient list\n",
    "\n",
    "df_testing = df_traintran_onehotencode[testers]\n",
    "df_testing['isFraud'] = df_traintran_onehotencode['isFraud']\n",
    "X = df_testing[testers]\n",
    "y = df_testing['isFraud']"
   ]
  },
  {
   "cell_type": "code",
   "execution_count": 43,
   "id": "103e02e4",
   "metadata": {},
   "outputs": [],
   "source": [
    "X_train, X_test, y_train, y_test = train_test_split(X, y, test_size=0.33, random_state=1234)"
   ]
  },
  {
   "cell_type": "code",
   "execution_count": 44,
   "id": "0eca80bd",
   "metadata": {},
   "outputs": [],
   "source": [
    "param_grid = {\n",
    "    \"loss\":[\"log_loss\"], # log-loss loss function\n",
    "    \"learning_rate\": [0.01, 0.025, 0.05, 0.075, 0.1, 0.15, 0.2],\n",
    "    # \"min_samples_split\": np.linspace(0.1, 0.5, 12),\n",
    "    # \"min_samples_leaf\": np.linspace(0.1, 0.5, 12),\n",
    "    \"max_depth\":[3,5,8],\n",
    "    # \"max_features\":[\"log2\",\"sqrt\"],\n",
    "    # \"criterion\": [\"friedman_mse\",  \"mae\"],\n",
    "    # \"subsample\":[0.5, 0.618, 0.8, 0.85, 0.9, 0.95, 1.0],\n",
    "    \"n_estimators\":[50]\n",
    "    }"
   ]
  },
  {
   "cell_type": "code",
   "execution_count": 45,
   "id": "1452e66a",
   "metadata": {},
   "outputs": [
    {
     "name": "stdout",
     "output_type": "stream",
     "text": [
      "Running Grid Search...\n",
      "Done\n"
     ]
    }
   ],
   "source": [
    "print('Running Grid Search...')\n",
    "model = GradientBoostingClassifier()\n",
    "grid = GridSearchCV(model, param_grid, cv = 5)\n",
    "grid_search = grid.fit(X_train, y_train)\n",
    "grid_search\n",
    "print('Done')"
   ]
  },
  {
   "cell_type": "code",
   "execution_count": 46,
   "id": "f4f15922",
   "metadata": {},
   "outputs": [
    {
     "name": "stdout",
     "output_type": "stream",
     "text": [
      "8\n",
      "0.2\n"
     ]
    }
   ],
   "source": [
    "best_d = grid_search.best_estimator_.max_depth\n",
    "print(best_d)\n",
    "best_lr = grid_search.best_estimator_.learning_rate\n",
    "print(best_lr)"
   ]
  },
  {
   "cell_type": "code",
   "execution_count": 47,
   "id": "e9c4439b",
   "metadata": {},
   "outputs": [
    {
     "name": "stdout",
     "output_type": "stream",
     "text": [
      "Begin GBDT Implementation...\n",
      "End\n"
     ]
    }
   ],
   "source": [
    "print('Begin GBDT Implementation...')\n",
    "\n",
    "model_best = GradientBoostingClassifier(n_estimators = 50, max_depth = 8, learning_rate = 0.2)\n",
    "\n",
    "model_best.fit(X_train, y_train)\n",
    "\n",
    "probability_predictions = list(model_best.predict_proba(X_test)[:,1])\n",
    "\n",
    "class_label_predictions = model_best.predict(X_test)\n",
    "\n",
    "print('End')"
   ]
  },
  {
   "cell_type": "code",
   "execution_count": 48,
   "id": "c2b9ba8c",
   "metadata": {},
   "outputs": [
    {
     "name": "stdout",
     "output_type": "stream",
     "text": [
      "Accuracy score: 0.9721468193083913\n",
      "Confusion Matrix for the model: \n"
     ]
    },
    {
     "data": {
      "text/html": [
       "<div>\n",
       "<style scoped>\n",
       "    .dataframe tbody tr th:only-of-type {\n",
       "        vertical-align: middle;\n",
       "    }\n",
       "\n",
       "    .dataframe tbody tr th {\n",
       "        vertical-align: top;\n",
       "    }\n",
       "\n",
       "    .dataframe thead th {\n",
       "        text-align: right;\n",
       "    }\n",
       "</style>\n",
       "<table border=\"1\" class=\"dataframe\">\n",
       "  <thead>\n",
       "    <tr style=\"text-align: right;\">\n",
       "      <th></th>\n",
       "      <th>Predicted: Fraud</th>\n",
       "      <th>Predicted: Not Fraud</th>\n",
       "    </tr>\n",
       "  </thead>\n",
       "  <tbody>\n",
       "    <tr>\n",
       "      <th>Actual: Fraud</th>\n",
       "      <td>1868</td>\n",
       "      <td>4872</td>\n",
       "    </tr>\n",
       "    <tr>\n",
       "      <th>Actual: Not Fraud</th>\n",
       "      <td>556</td>\n",
       "      <td>187583</td>\n",
       "    </tr>\n",
       "  </tbody>\n",
       "</table>\n",
       "</div>"
      ],
      "text/plain": [
       "                   Predicted: Fraud  Predicted: Not Fraud\n",
       "Actual: Fraud                  1868                  4872\n",
       "Actual: Not Fraud               556                187583"
      ]
     },
     "execution_count": 48,
     "metadata": {},
     "output_type": "execute_result"
    }
   ],
   "source": [
    "acc_score = accuracy_score(y_test, class_label_predictions)\n",
    "print('Accuracy score: ' + str(acc_score))\n",
    "\n",
    "c_m = confusion_matrix(y_test, class_label_predictions, labels=[True, False])\n",
    "\n",
    "print('Confusion Matrix for the model: ')\n",
    "pd.DataFrame(c_m, columns=['Predicted: Fraud', 'Predicted: Not Fraud'],\n",
    "index=['Actual: Fraud', 'Actual: Not Fraud'])"
   ]
  },
  {
   "cell_type": "code",
   "execution_count": 49,
   "id": "26dc5ae1",
   "metadata": {},
   "outputs": [
    {
     "data": {
      "image/png": "[encoded data removed]",
      "text/plain": [
       "<Figure size 640x480 with 2 Axes>"
      ]
     },
     "metadata": {},
     "output_type": "display_data"
    }
   ],
   "source": [
    "from sklearn import metrics\n",
    "cm_display = metrics.ConfusionMatrixDisplay(confusion_matrix = c_m, display_labels = [\"Fraud\", \"notFraud\"])\n",
    "cm_display.plot()\n",
    "plt.show()"
   ]
  },
  {
   "cell_type": "code",
   "execution_count": 50,
   "id": "436635cc",
   "metadata": {},
   "outputs": [
    {
     "name": "stdout",
     "output_type": "stream",
     "text": [
      "Computing ROC Curve...\n",
      "End\n"
     ]
    }
   ],
   "source": [
    "print('Computing ROC Curve...')\n",
    "\n",
    "fpr, tpr, thresholds = roc_curve(y_test, probability_predictions)\n",
    "\n",
    "print('End')"
   ]
  },
  {
   "cell_type": "code",
   "execution_count": 51,
   "id": "8df5e128",
   "metadata": {},
   "outputs": [
    {
     "name": "stdout",
     "output_type": "stream",
     "text": [
      "Plotting ROC Curve...\n"
     ]
    },
    {
     "data": {
      "image/png": "[encoded data removed]",
      "text/plain": [
       "<Figure size 640x480 with 1 Axes>"
      ]
     },
     "metadata": {},
     "output_type": "display_data"
    }
   ],
   "source": [
    "print('Plotting ROC Curve...')\n",
    "\n",
    "fig = plt.figure()\n",
    "ax = fig.add_subplot(111)\n",
    "\n",
    "\n",
    "sns.lineplot(x=fpr, y=tpr, marker = 'o')\n",
    "\n",
    "plt.title(\"Receiver operating characteristic (ROC) curve\")\n",
    "plt.xlabel(\"False positive rate\")\n",
    "plt.ylabel(\"True positive rate\")\n",
    "plt.legend(['GBDT with max_depth=8 and learning_rate=.2'])\n",
    "plt.show()"
   ]
  },
  {
   "cell_type": "code",
   "execution_count": 52,
   "id": "17b69214",
   "metadata": {},
   "outputs": [
    {
     "name": "stdout",
     "output_type": "stream",
     "text": [
      "AUC of the GBDT model with a max depth of 8 and learning rate of .2 is 0.831\n"
     ]
    }
   ],
   "source": [
    "auc1 = auc(fpr, tpr)\n",
    "\n",
    "print(\"AUC of the GBDT model with a max depth of 8 and learning rate of .2 is {:.3f}\".format(auc1))"
   ]
  },
  {
   "cell_type": "code",
   "execution_count": 53,
   "id": "24a65d73",
   "metadata": {},
   "outputs": [
    {
     "name": "stdout",
     "output_type": "stream",
     "text": [
      "Computing Precision-Recall Curve...\n",
      "End\n"
     ]
    }
   ],
   "source": [
    "print('Computing Precision-Recall Curve...')\n",
    "\n",
    "precision, recall, thresholds = precision_recall_curve(y_test, probability_predictions)\n",
    "\n",
    "print('End')"
   ]
  },
  {
   "cell_type": "code",
   "execution_count": 54,
   "id": "1590d65e",
   "metadata": {},
   "outputs": [
    {
     "data": {
      "image/png": "[encoded data removed]",
      "text/plain": [
       "<Figure size 640x480 with 1 Axes>"
      ]
     },
     "metadata": {},
     "output_type": "display_data"
    }
   ],
   "source": [
    "fig = plt.figure()\n",
    "ax = fig.add_subplot(111)\n",
    "\n",
    "sns.lineplot(x=recall, y=precision, marker = 'o')\n",
    "\n",
    "plt.title(\"Precision-Recall curve\")\n",
    "plt.xlabel(\"Recall\")\n",
    "plt.ylabel(\"Precision\")\n",
    "plt.legend(['GBDT with max_depth=8 and learning_rate=.2'])\n",
    "plt.show()"
   ]
  },
  {
   "cell_type": "code",
   "execution_count": 55,
   "id": "4716c39e",
   "metadata": {},
   "outputs": [
    {
     "name": "stdout",
     "output_type": "stream",
     "text": [
      "AUC of the GBDT model with a max depth of 8 and learning rate of .2 is 0.418\n"
     ]
    }
   ],
   "source": [
    "auc2 = auc(recall, precision)\n",
    "\n",
    "print(\"AUC of the GBDT model with a max depth of 8 and learning rate of .2 is {:.3f}\".format(auc2))"
   ]
  },
  {
   "cell_type": "code",
   "execution_count": 56,
   "id": "1db16f07",
   "metadata": {},
   "outputs": [
    {
     "name": "stdout",
     "output_type": "stream",
     "text": [
      "0.40768223483195115\n"
     ]
    }
   ],
   "source": [
    "f1 = f1_score(y_test, class_label_predictions)\n",
    "print(f1)"
   ]
  },
  {
   "cell_type": "code",
   "execution_count": 57,
   "id": "8cd9dd2d",
   "metadata": {},
   "outputs": [
    {
     "name": "stdout",
     "output_type": "stream",
     "text": [
      "              precision    recall  f1-score   support\n",
      "\n",
      "           0       0.97      1.00      0.99    188139\n",
      "           1       0.77      0.28      0.41      6740\n",
      "\n",
      "    accuracy                           0.97    194879\n",
      "   macro avg       0.87      0.64      0.70    194879\n",
      "weighted avg       0.97      0.97      0.97    194879\n",
      "\n"
     ]
    }
   ],
   "source": [
    "from sklearn.metrics import classification_report\n",
    "print(classification_report(y_test, class_label_predictions))"
   ]
  },
  {
   "cell_type": "markdown",
   "id": "cb93db26",
   "metadata": {},
   "source": [
    "# apply the model to testing dataset"
   ]
  },
  {
   "cell_type": "code",
   "execution_count": 60,
   "id": "2a90179b",
   "metadata": {},
   "outputs": [],
   "source": [
    "df_testran = pd.read_csv('test_transaction.csv')"
   ]
  },
  {
   "cell_type": "code",
   "execution_count": 64,
   "id": "378d0786",
   "metadata": {},
   "outputs": [],
   "source": [
    "X = df_testran"
   ]
  },
  {
   "cell_type": "code",
   "execution_count": 65,
   "id": "d6b72832",
   "metadata": {},
   "outputs": [
    {
     "ename": "ValueError",
     "evalue": "The feature names should match those that were passed during fit.\nFeature names unseen at fit time:\n- C1\n- C10\n- C11\n- C12\n- C13\n- ...\nFeature names seen at fit time, yet now missing:\n- M1_T\n- M2_T\n- M4_M2\n- M7_F\n- P_emaildomain1_protonmail\n- ...\n",
     "output_type": "error",
     "traceback": [
      "\u001b[0;31m---------------------------------------------------------------------------\u001b[0m",
      "\u001b[0;31mValueError\u001b[0m                                Traceback (most recent call last)",
      "Cell \u001b[0;32mIn[65], line 1\u001b[0m\n\u001b[0;32m----> 1\u001b[0m probability_predictions \u001b[38;5;241m=\u001b[39m \u001b[38;5;28mlist\u001b[39m(model_best\u001b[38;5;241m.\u001b[39mpredict_proba(X)[:,\u001b[38;5;241m1\u001b[39m])\n\u001b[1;32m      3\u001b[0m class_label_predictions \u001b[38;5;241m=\u001b[39m model_best\u001b[38;5;241m.\u001b[39mpredict(X)\n",
      "File \u001b[0;32m~/anaconda3/lib/python3.11/site-packages/sklearn/ensemble/_gb.py:1333\u001b[0m, in \u001b[0;36mGradientBoostingClassifier.predict_proba\u001b[0;34m(self, X)\u001b[0m\n\u001b[1;32m   1312\u001b[0m \u001b[38;5;28;01mdef\u001b[39;00m \u001b[38;5;21mpredict_proba\u001b[39m(\u001b[38;5;28mself\u001b[39m, X):\n\u001b[1;32m   1313\u001b[0m \u001b[38;5;250m    \u001b[39m\u001b[38;5;124;03m\"\"\"Predict class probabilities for X.\u001b[39;00m\n\u001b[1;32m   1314\u001b[0m \n\u001b[1;32m   1315\u001b[0m \u001b[38;5;124;03m    Parameters\u001b[39;00m\n\u001b[0;32m   (...)\u001b[0m\n\u001b[1;32m   1331\u001b[0m \u001b[38;5;124;03m        If the ``loss`` does not support probabilities.\u001b[39;00m\n\u001b[1;32m   1332\u001b[0m \u001b[38;5;124;03m    \"\"\"\u001b[39;00m\n\u001b[0;32m-> 1333\u001b[0m     raw_predictions \u001b[38;5;241m=\u001b[39m \u001b[38;5;28mself\u001b[39m\u001b[38;5;241m.\u001b[39mdecision_function(X)\n\u001b[1;32m   1334\u001b[0m     \u001b[38;5;28;01mtry\u001b[39;00m:\n\u001b[1;32m   1335\u001b[0m         \u001b[38;5;28;01mreturn\u001b[39;00m \u001b[38;5;28mself\u001b[39m\u001b[38;5;241m.\u001b[39m_loss\u001b[38;5;241m.\u001b[39m_raw_prediction_to_proba(raw_predictions)\n",
      "File \u001b[0;32m~/anaconda3/lib/python3.11/site-packages/sklearn/ensemble/_gb.py:1239\u001b[0m, in \u001b[0;36mGradientBoostingClassifier.decision_function\u001b[0;34m(self, X)\u001b[0m\n\u001b[1;32m   1220\u001b[0m \u001b[38;5;28;01mdef\u001b[39;00m \u001b[38;5;21mdecision_function\u001b[39m(\u001b[38;5;28mself\u001b[39m, X):\n\u001b[1;32m   1221\u001b[0m \u001b[38;5;250m    \u001b[39m\u001b[38;5;124;03m\"\"\"Compute the decision function of ``X``.\u001b[39;00m\n\u001b[1;32m   1222\u001b[0m \n\u001b[1;32m   1223\u001b[0m \u001b[38;5;124;03m    Parameters\u001b[39;00m\n\u001b[0;32m   (...)\u001b[0m\n\u001b[1;32m   1237\u001b[0m \u001b[38;5;124;03m        array of shape (n_samples,).\u001b[39;00m\n\u001b[1;32m   1238\u001b[0m \u001b[38;5;124;03m    \"\"\"\u001b[39;00m\n\u001b[0;32m-> 1239\u001b[0m     X \u001b[38;5;241m=\u001b[39m \u001b[38;5;28mself\u001b[39m\u001b[38;5;241m.\u001b[39m_validate_data(\n\u001b[1;32m   1240\u001b[0m         X, dtype\u001b[38;5;241m=\u001b[39mDTYPE, order\u001b[38;5;241m=\u001b[39m\u001b[38;5;124m\"\u001b[39m\u001b[38;5;124mC\u001b[39m\u001b[38;5;124m\"\u001b[39m, accept_sparse\u001b[38;5;241m=\u001b[39m\u001b[38;5;124m\"\u001b[39m\u001b[38;5;124mcsr\u001b[39m\u001b[38;5;124m\"\u001b[39m, reset\u001b[38;5;241m=\u001b[39m\u001b[38;5;28;01mFalse\u001b[39;00m\n\u001b[1;32m   1241\u001b[0m     )\n\u001b[1;32m   1242\u001b[0m     raw_predictions \u001b[38;5;241m=\u001b[39m \u001b[38;5;28mself\u001b[39m\u001b[38;5;241m.\u001b[39m_raw_predict(X)\n\u001b[1;32m   1243\u001b[0m     \u001b[38;5;28;01mif\u001b[39;00m raw_predictions\u001b[38;5;241m.\u001b[39mshape[\u001b[38;5;241m1\u001b[39m] \u001b[38;5;241m==\u001b[39m \u001b[38;5;241m1\u001b[39m:\n",
      "File \u001b[0;32m~/anaconda3/lib/python3.11/site-packages/sklearn/base.py:579\u001b[0m, in \u001b[0;36mBaseEstimator._validate_data\u001b[0;34m(self, X, y, reset, validate_separately, cast_to_ndarray, **check_params)\u001b[0m\n\u001b[1;32m    508\u001b[0m \u001b[38;5;28;01mdef\u001b[39;00m \u001b[38;5;21m_validate_data\u001b[39m(\n\u001b[1;32m    509\u001b[0m     \u001b[38;5;28mself\u001b[39m,\n\u001b[1;32m    510\u001b[0m     X\u001b[38;5;241m=\u001b[39m\u001b[38;5;124m\"\u001b[39m\u001b[38;5;124mno_validation\u001b[39m\u001b[38;5;124m\"\u001b[39m,\n\u001b[0;32m   (...)\u001b[0m\n\u001b[1;32m    515\u001b[0m     \u001b[38;5;241m*\u001b[39m\u001b[38;5;241m*\u001b[39mcheck_params,\n\u001b[1;32m    516\u001b[0m ):\n\u001b[1;32m    517\u001b[0m \u001b[38;5;250m    \u001b[39m\u001b[38;5;124;03m\"\"\"Validate input data and set or check the `n_features_in_` attribute.\u001b[39;00m\n\u001b[1;32m    518\u001b[0m \n\u001b[1;32m    519\u001b[0m \u001b[38;5;124;03m    Parameters\u001b[39;00m\n\u001b[0;32m   (...)\u001b[0m\n\u001b[1;32m    577\u001b[0m \u001b[38;5;124;03m        validated.\u001b[39;00m\n\u001b[1;32m    578\u001b[0m \u001b[38;5;124;03m    \"\"\"\u001b[39;00m\n\u001b[0;32m--> 579\u001b[0m     \u001b[38;5;28mself\u001b[39m\u001b[38;5;241m.\u001b[39m_check_feature_names(X, reset\u001b[38;5;241m=\u001b[39mreset)\n\u001b[1;32m    581\u001b[0m     \u001b[38;5;28;01mif\u001b[39;00m y \u001b[38;5;129;01mis\u001b[39;00m \u001b[38;5;28;01mNone\u001b[39;00m \u001b[38;5;129;01mand\u001b[39;00m \u001b[38;5;28mself\u001b[39m\u001b[38;5;241m.\u001b[39m_get_tags()[\u001b[38;5;124m\"\u001b[39m\u001b[38;5;124mrequires_y\u001b[39m\u001b[38;5;124m\"\u001b[39m]:\n\u001b[1;32m    582\u001b[0m         \u001b[38;5;28;01mraise\u001b[39;00m \u001b[38;5;167;01mValueError\u001b[39;00m(\n\u001b[1;32m    583\u001b[0m             \u001b[38;5;124mf\u001b[39m\u001b[38;5;124m\"\u001b[39m\u001b[38;5;124mThis \u001b[39m\u001b[38;5;132;01m{\u001b[39;00m\u001b[38;5;28mself\u001b[39m\u001b[38;5;241m.\u001b[39m\u001b[38;5;18m__class__\u001b[39m\u001b[38;5;241m.\u001b[39m\u001b[38;5;18m__name__\u001b[39m\u001b[38;5;132;01m}\u001b[39;00m\u001b[38;5;124m estimator \u001b[39m\u001b[38;5;124m\"\u001b[39m\n\u001b[1;32m    584\u001b[0m             \u001b[38;5;124m\"\u001b[39m\u001b[38;5;124mrequires y to be passed, but the target y is None.\u001b[39m\u001b[38;5;124m\"\u001b[39m\n\u001b[1;32m    585\u001b[0m         )\n",
      "File \u001b[0;32m~/anaconda3/lib/python3.11/site-packages/sklearn/base.py:506\u001b[0m, in \u001b[0;36mBaseEstimator._check_feature_names\u001b[0;34m(self, X, reset)\u001b[0m\n\u001b[1;32m    501\u001b[0m \u001b[38;5;28;01mif\u001b[39;00m \u001b[38;5;129;01mnot\u001b[39;00m missing_names \u001b[38;5;129;01mand\u001b[39;00m \u001b[38;5;129;01mnot\u001b[39;00m unexpected_names:\n\u001b[1;32m    502\u001b[0m     message \u001b[38;5;241m+\u001b[39m\u001b[38;5;241m=\u001b[39m (\n\u001b[1;32m    503\u001b[0m         \u001b[38;5;124m\"\u001b[39m\u001b[38;5;124mFeature names must be in the same order as they were in fit.\u001b[39m\u001b[38;5;130;01m\\n\u001b[39;00m\u001b[38;5;124m\"\u001b[39m\n\u001b[1;32m    504\u001b[0m     )\n\u001b[0;32m--> 506\u001b[0m \u001b[38;5;28;01mraise\u001b[39;00m \u001b[38;5;167;01mValueError\u001b[39;00m(message)\n",
      "\u001b[0;31mValueError\u001b[0m: The feature names should match those that were passed during fit.\nFeature names unseen at fit time:\n- C1\n- C10\n- C11\n- C12\n- C13\n- ...\nFeature names seen at fit time, yet now missing:\n- M1_T\n- M2_T\n- M4_M2\n- M7_F\n- P_emaildomain1_protonmail\n- ...\n"
     ]
    }
   ],
   "source": [
    "probability_predictions = list(model_best.predict_proba(X)[:,1])\n",
    "\n",
    "class_label_predictions = model_best.predict(X)"
   ]
  },
  {
   "cell_type": "code",
   "execution_count": null,
   "id": "d7975e6e",
   "metadata": {},
   "outputs": [],
   "source": []
  }
 ],
 "metadata": {
  "kernelspec": {
   "display_name": "Python 3 (ipykernel)",
   "language": "python",
   "name": "python3"
  },
  "language_info": {
   "codemirror_mode": {
    "name": "ipython",
    "version": 3
   },
   "file_extension": ".py",
   "mimetype": "text/x-python",
   "name": "python",
   "nbconvert_exporter": "python",
   "pygments_lexer": "ipython3",
   "version": "3.11.5"
  }
 },
 "nbformat": 4,
 "nbformat_minor": 5
}
